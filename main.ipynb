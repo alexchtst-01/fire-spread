{
 "cells": [
  {
   "cell_type": "code",
   "execution_count": null,
   "metadata": {},
   "outputs": [],
   "source": [
    "import numpy as np\n",
    "from matplotlib import pyplot as plt\n",
    "from matplotlib import animation as animation\n",
    "import random as rand\n",
    "import os"
   ]
  },
  {
   "cell_type": "code",
   "execution_count": null,
   "metadata": {},
   "outputs": [],
   "source": [
    "global EMPTY, TREE, BURN\n",
    "EMPTY = 0\n",
    "TREE = 1\n",
    "BURN = 2"
   ]
  },
  {
   "cell_type": "markdown",
   "metadata": {},
   "source": [
    "## intial forest grid"
   ]
  },
  {
   "cell_type": "code",
   "execution_count": 1,
   "metadata": {},
   "outputs": [],
   "source": [
    "def initialForest(n=17):  \n",
    "  # the first&last row/column into value of 0\n",
    "  forest = np.zeros(shape=(n+2, n+2))\n",
    "  \n",
    "  # the rest of the forest is tree\n",
    "  forest[1:-1, 1:-1] = TREE\n",
    "  \n",
    "  # center of grid is burning\n",
    "  forest[(n+2)//2, (n+2)//2] = BURN\n",
    "  \n",
    "  print(0, 1, 17*17 - 2)\n",
    "  return forest"
   ]
  },
  {
   "cell_type": "markdown",
   "metadata": {},
   "source": [
    "## random spread function burning tree using Van Noumann "
   ]
  },
  {
   "cell_type": "code",
   "execution_count": 2,
   "metadata": {},
   "outputs": [],
   "source": [
    "def spread(site, N, E, S, W, probBurn):\n",
    "    if (site == EMPTY):\n",
    "        return EMPTY\n",
    "    else:\n",
    "        if (site == BURN):\n",
    "            return EMPTY\n",
    "        else:\n",
    "            if N == BURN or E == BURN or S == BURN or W == BURN:\n",
    "                if (rand.random() < probBurn):\n",
    "                    return BURN\n",
    "                else:\n",
    "                    return TREE\n",
    "            else:\n",
    "                return TREE"
   ]
  },
  {
   "cell_type": "markdown",
   "metadata": {},
   "source": [
    "## inspect condition in a grid to show number of tree, empty space, and burning tree"
   ]
  },
  {
   "cell_type": "code",
   "execution_count": null,
   "metadata": {},
   "outputs": [],
   "source": [
    "def inspectConditions(grid):\n",
    "  unPadGrid = grid[1:-1, 1:-1]\n",
    "  tree = np.sum(unPadGrid == 1)\n",
    "  empt = np.sum(unPadGrid == 0)\n",
    "  burn = np.sum(unPadGrid == 2)\n",
    "\n",
    "  return tree, empt, burn"
   ]
  },
  {
   "cell_type": "markdown",
   "metadata": {},
   "source": [
    "## simulation fire spreading until all the cells in the grid do not contain burning tree anymore"
   ]
  },
  {
   "cell_type": "code",
   "execution_count": null,
   "metadata": {},
   "outputs": [],
   "source": [
    "def simulation(forest, probBurning):\n",
    "  tree, empt, burn = inspectConditions(forest)\n",
    "  k = 1\n",
    "  temp = forest.copy()\n",
    "  newForest = np.zeros(shape=forest.shape)\n",
    "  n = (forest.shape[0] - 2) * (forest.shape[1] - 2)\n",
    "  while burn != 0:\n",
    "  # for i in range(10):\n",
    "    \n",
    "    for i in range(1, 18):\n",
    "        for j in range(1, 18):\n",
    "            newForest[i, j] = spread(\n",
    "                site=temp[i, j],\n",
    "                N=temp[i-1, j],\n",
    "                E=temp[i, j+1],\n",
    "                S=temp[i+1, j],\n",
    "                W=temp[i, j-1],\n",
    "                probBurn=probBurning\n",
    "            )\n",
    "    k += 1\n",
    "    temp = newForest.copy()\n",
    "    # plt.imshow(newForest, vmax=2, vmin=0)\n",
    "    # plt.savefig(f\"{fdir}/gambar{k}.png\")\n",
    "    tree, empt, burn = inspectConditions(newForest)\n",
    "  \n",
    "  return empt/n"
   ]
  },
  {
   "cell_type": "code",
   "execution_count": null,
   "metadata": {},
   "outputs": [],
   "source": [
    "def get_avg_simulate_n(n, forest, prob):\n",
    "    data = []\n",
    "    for i in range(n):\n",
    "        data.append(simulation(forest=forest, probBurning=prob))\n",
    "        \n",
    "    return sum(data)/len(data), data"
   ]
  },
  {
   "cell_type": "code",
   "execution_count": null,
   "metadata": {},
   "outputs": [],
   "source": [
    "forest = initialForest()\n",
    "plt.imshow(forest, vmin=0, vmax=2)\n",
    "plt.colorbar()"
   ]
  },
  {
   "cell_type": "code",
   "execution_count": null,
   "metadata": {},
   "outputs": [],
   "source": [
    "probList = [0.1, 0.2, 0.3, 0.4, 0.5, 0.6, 0.7, 0.8, 0.9]\n",
    "resList = []\n",
    "data_ = []\n",
    "for i in probList:\n",
    "    avg, data = get_avg_simulate_n(n=10, forest=forest, prob=i)\n",
    "    resList.append(avg)\n",
    "    data_.append(data)"
   ]
  },
  {
   "cell_type": "code",
   "execution_count": null,
   "metadata": {},
   "outputs": [],
   "source": [
    "data_"
   ]
  },
  {
   "cell_type": "code",
   "execution_count": null,
   "metadata": {},
   "outputs": [],
   "source": [
    "resList"
   ]
  },
  {
   "cell_type": "code",
   "execution_count": null,
   "metadata": {},
   "outputs": [],
   "source": [
    "plt.plot(probList, resList)"
   ]
  }
 ],
 "metadata": {
  "kernelspec": {
   "display_name": "Python 3",
   "language": "python",
   "name": "python3"
  },
  "language_info": {
   "codemirror_mode": {
    "name": "ipython",
    "version": 3
   },
   "file_extension": ".py",
   "mimetype": "text/x-python",
   "name": "python",
   "nbconvert_exporter": "python",
   "pygments_lexer": "ipython3",
   "version": "3.11.4"
  }
 },
 "nbformat": 4,
 "nbformat_minor": 2
}
